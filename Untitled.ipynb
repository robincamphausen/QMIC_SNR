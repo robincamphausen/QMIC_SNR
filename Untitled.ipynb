{
 "cells": [
  {
   "cell_type": "code",
   "execution_count": 37,
   "metadata": {
    "collapsed": false
   },
   "outputs": [
    {
     "name": "stdout",
     "output_type": "stream",
     "text": [
      "[[[ 0.  0.  0.  0.]\n",
      "  [ 1.  1.  1.  1.]]\n",
      "\n",
      " [[ 2.  2.  2.  2.]\n",
      "  [ 3.  3.  3.  3.]]]\n",
      "(2, 2, 4)\n",
      "[[[ 0.]\n",
      "  [ 1.]]\n",
      "\n",
      " [[ 2.]\n",
      "  [ 3.]]]\n"
     ]
    }
   ],
   "source": [
    "import numpy as np\n",
    "a = np.arange(3.)\n",
    "b = np.arange(4.)\n",
    "\n",
    "c  = np.tile(b.reshape(2,2,1),[1,1,4])\n",
    "\n",
    "print(c)\n",
    "print(c.shape)\n",
    "\n",
    "print c[:,:,0:1]\n",
    "#np.tile(b,[3,1])\n",
    "#a\n",
    "#np.tile(a,[1,4,2])\n",
    "#np.linspace(1.0,5.0,17)\n",
    "#c =np.arange(8.).reshape(2,2,2)\n",
    "#c**2"
   ]
  },
  {
   "cell_type": "code",
   "execution_count": null,
   "metadata": {
    "collapsed": true
   },
   "outputs": [],
   "source": []
  }
 ],
 "metadata": {
  "anaconda-cloud": {},
  "kernelspec": {
   "display_name": "Python [default]",
   "language": "python",
   "name": "python2"
  }
 },
 "nbformat": 4,
 "nbformat_minor": 1
}

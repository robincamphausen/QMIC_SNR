{
 "cells": [
  {
   "cell_type": "markdown",
   "metadata": {},
   "source": [
    "## Signal to Noise for Q-MIC with gated MPD SPC3 @ 800 nm\n",
    "\n",
    "Shows coincidence to accidentals ratio (CAR) and total signal to noise ratio (SNR) for\n",
    "- varying gate windows,\n",
    "- varying dark counts per pixel,\n",
    "- different detection efficiencies (total detection efficiency incl. transmission and quantum efficiency): with and without microlens array,\n",
    "- full sensor vs partial use of sensor.\n",
    "\n",
    "Also displays corresponding valid pair rate as a function of the above"
   ]
  },
  {
   "cell_type": "code",
   "execution_count": 1,
   "metadata": {
    "collapsed": false
   },
   "outputs": [],
   "source": [
    "#initialise system values\n",
    "#------------------------\n",
    "\n",
    "import trace as tr\n",
    "import numpy as np\n",
    "\n",
    "# target SPDC pair generation rate is 10MHz\n",
    "pairRate = 1E7\n",
    "\n",
    "quantEff = 0.05 # SPC3 quantum efficiency at 800nm\n",
    "optTrans = 0.5 # 50% optical losses\n",
    "fillFactor = np.array([(30.0**2)/(150.0**2),0.7]) # without and with microlens array (70% fill factor claimed with MLA)\n",
    "eff = quantEff*optTrans*fillFactor\n",
    "\n",
    "darkC_ppix = 100 # for >80% of the SPAD pixels dark count is <100cps\n",
    "numpix = np.array([512,2048]) # focusing on 1/4 of array or using full array\n",
    "frameRate = 96E3\n",
    "frameT = 1/frameRate *1E9 # frame period in nanoseconds\n",
    "\n",
    "transPairs_psec = pairRate * eff**2 # number of SPDC photon pairs detected by SPAD array per second before gating\n",
    "darkCSingles_psec = darkC_ppix * numpix # number of dark count singles detected by SPAD array per second before gating\n",
    "transAccSingles_psec = pairRate *(eff-eff**2) # number of accidental singles detected by SPAD array per second before gating\n",
    "\n",
    "gateWin = np.linspace(1.0,5.0,17) # different gate windows in nanoseconds\n",
    "dutyCyc = gateWin/frameT # duty cycles for each gate window (time gate ON vs total length of frame)"
   ]
  },
  {
   "cell_type": "code",
   "execution_count": 5,
   "metadata": {
    "collapsed": false
   },
   "outputs": [
    {
     "ename": "SyntaxError",
     "evalue": "can't assign to function call (<ipython-input-5-af63b63fdc90>, line 12)",
     "output_type": "error",
     "traceback": [
      "\u001b[0;36m  File \u001b[0;32m\"<ipython-input-5-af63b63fdc90>\"\u001b[0;36m, line \u001b[0;32m12\u001b[0m\n\u001b[0;31m    CAR(gateCounter) = prob_realCoinc/prob_accCoinc;\u001b[0m\n\u001b[0;31mSyntaxError\u001b[0m\u001b[0;31m:\u001b[0m can't assign to function call\n"
     ]
    }
   ],
   "source": [
    "#Apply gating and calculate detection probabilities per frame\n",
    "#------------------------------------------------------------\n",
    "\n",
    "prob_realCoinc = dutyCycle*transPairs_psec/frameRate;\n",
    "prob_accSingle = dutyCycle*transAccSingles_psec/frameRate;\n",
    "prob_accCoinc = prob_accSingle^2;\n",
    "\n",
    "print(prob_realCoinc)\n",
    "\n",
    "Tracer()()\n",
    "\n",
    "CAR(gateCounter) = prob_realCoinc/prob_accCoinc;\n",
    "\n",
    "prob_darkCSingle = dutyCycle*darkCSingles_psec/frameRate;\n",
    "prob_triple = prob_darkCSingle*prob_realCoinc;\n",
    "prob_darkAccCoinc = 2* prob_darkCSingle*prob_accSingle;\n",
    "\n",
    "prob_validPair = prob_realCoinc - prob_triple;\n",
    "prob_noiseCoinc = prob_accCoinc + prob_darkAccCoinc;\n",
    "\n",
    "SNR(gateCounter) = prob_validPair/prob_noiseCoinc;\n",
    "\n",
    "validPairRate(gateCounter) = prob_validPair * frameRate;"
   ]
  },
  {
   "cell_type": "code",
   "execution_count": null,
   "metadata": {
    "collapsed": false
   },
   "outputs": [],
   "source": [
    "#run this in order to use matplotlib plotting:\n",
    "\n",
    "%matplotlib inline"
   ]
  },
  {
   "cell_type": "code",
   "execution_count": null,
   "metadata": {
    "collapsed": true
   },
   "outputs": [],
   "source": []
  }
 ],
 "metadata": {
  "anaconda-cloud": {},
  "kernelspec": {
   "display_name": "Python [default]",
   "language": "python",
   "name": "python2"
  },
  "language_info": {
   "codemirror_mode": {
    "name": "ipython",
    "version": 2
   },
   "file_extension": ".py",
   "mimetype": "text/x-python",
   "name": "python",
   "nbconvert_exporter": "python",
   "pygments_lexer": "ipython2",
   "version": "2.7.12"
  }
 },
 "nbformat": 4,
 "nbformat_minor": 1
}

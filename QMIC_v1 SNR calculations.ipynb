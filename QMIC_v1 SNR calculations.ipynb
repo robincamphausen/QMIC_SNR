{
 "cells": [
  {
   "cell_type": "markdown",
   "metadata": {},
   "source": [
    "## Signal to Noise for Q-MIC with gated MPD SPC3 @ 800 nm\n",
    "\n",
    "Shows coincidence to accidentals ratio (CAR) and total signal to noise ratio (SNR) for\n",
    "- varying gate windows,\n",
    "- varying dark counts per pixel,\n",
    "- different detection efficiencies (total detection efficiency incl. transmission and quantum efficiency): with and without microlens array,\n",
    "- full sensor vs partial use of sensor.\n",
    "\n",
    "Also displays corresponding valid pair rate as a function of the above"
   ]
  },
  {
   "cell_type": "code",
   "execution_count": 3,
   "metadata": {
    "collapsed": false
   },
   "outputs": [
    {
     "name": "stdout",
     "output_type": "stream",
     "text": [
      "(2, 2, 2)\n"
     ]
    }
   ],
   "source": [
    "# Initialise system values\n",
    "#-------------------------\n",
    "\n",
    "import trace as tr\n",
    "import numpy as np\n",
    "\n",
    "# target SPDC pair generation rate is 10MHz\n",
    "pairRate = 1E7\n",
    "\n",
    "quantEff = 0.05 # SPC3 quantum efficiency at 800nm\n",
    "\n",
    "optTrans = 0.5 # 50% optical losses\n",
    "fillFactor = np.array([(30.0**2)/(150.0**2),0.7]) # without and with microlens array (70% fill factor claimed with MLA)\n",
    "nf = fillFactor.size # number of fillFactor elements\n",
    "eff = quantEff*optTrans*fillFactor\n",
    "\n",
    "darkC_ppix = 100 # for >80% of the SPAD pixels dark count is <100cps\n",
    "numpix = np.array([512,2048]) # focusing on 1/4 of array or using full array\n",
    "nc = numpix.size # number of pixel configurations\n",
    "\n",
    "frameRate = 96E3\n",
    "frameT = 1/frameRate *1E9 # frame period in nanoseconds\n",
    "\n",
    "ng = 17 # number of gateWin elements\n",
    "gateWin = np.linspace(1.0,5.0,ng) # different gate windows in nanoseconds\n",
    "dutyCyc = gateWin/frameT # duty cycles for each gate window (time gate ON vs total length of frame)\n",
    "\n",
    "pairs_psec = pairRate * eff**2 # number of SPDC photon pairs detected by SPAD array per second before gating\n",
    "darkCSingles_psec = darkC_ppix * numpix # number of dark count singles detected by SPAD array per second before gating\n",
    "accSingles_psec = pairRate *(eff-eff**2) # number of accidental singles detected by SPAD array per second before gating\n",
    "\n",
    "print(pairs_psec.size, darkCSingles_psec.size,accSingles_psec.size)"
   ]
  },
  {
   "cell_type": "code",
   "execution_count": 4,
   "metadata": {
    "collapsed": false
   },
   "outputs": [
    {
     "data": {
      "text/plain": [
       "(17, 2)"
      ]
     },
     "execution_count": 4,
     "metadata": {},
     "output_type": "execute_result"
    }
   ],
   "source": [
    "# Calculate CAR\n",
    "#--------------\n",
    "\n",
    "# Apply gating and calculate probabilities (per frame) of coincidences and accidentals\n",
    "# (need to always have probability of detection << 1 per frame):\n",
    "# CAR varies with gateWin and with fillFactor , therefore is ng*nf 2D-array\n",
    "prob_realCoinc = np.tile(gateWin.reshape(ng,1), [1,nf]) * np.tile(pairs_psec, [ng,1]) #prob real SPDC coincidence\n",
    "prob_accSingle = np.tile(gateWin.reshape(ng,1), [1,nf]) * np.tile(accSingles_psec, [ng,1]) #prob accidental SPDC single photon\n",
    "prob_accCoinc = prob_accSingle**2 #prob accidental coincidence (from two unpaired SPDC photons)\n",
    "\n",
    "CAR = prob_realCoinc/prob_accCoinc\n",
    "CAR.shape"
   ]
  },
  {
   "cell_type": "code",
   "execution_count": 11,
   "metadata": {
    "collapsed": false
   },
   "outputs": [
    {
     "data": {
      "text/plain": [
       "(17, 2, 2)"
      ]
     },
     "execution_count": 11,
     "metadata": {},
     "output_type": "execute_result"
    }
   ],
   "source": [
    "# Calculate full SNR\n",
    "#-------------------\n",
    "\n",
    "# Apply gating and calculate probabilities (per frame) for dark counts too:\n",
    "# darkC varies with gateWin and numpix, therefore prob_darkC are 2D arrays with size ng*nc\n",
    "prob_darkCSingle = np.tile(gateWin.reshape(ng,1), [1,nc]) * np.tile(darkCSingles_psec,[ng,1]) #prob of dark count single\n",
    "prob_2darkCoinc = prob_darkCSingle**2 #prob of coincidence from two dark counts\n",
    "\n",
    "# Probabilities of coincs between SPDC and dark count photons vary with gateWin, fillFactor and numpix\n",
    "# therefore are 3D arrays with size ng*nf*nc (SNR too)\n",
    "prob_triple = np.tile(prob_realCoinc.reshape(ng,nf,1),[1,1,nc])* np.tile(prob_darkCSingle.reshape(ng,1,nc),[1,nf,1])\n",
    "prob_darkAccCoinc = 2 * np.tile(prob_accSingle.reshape(ng,nf,1),[1,1,nc])*np.tile(prob_darkCSingle.reshape(ng,1,nc),[1,nf,1])\n",
    "                                                                    \n",
    "prob_signal = np.tile(prob_realCoinc.reshape(ng,nf,1),[1,1,nc]) - prob_triple\n",
    "prob_noise = np.tile(prob_accCoinc.reshape(ng,nf,1),[1,1,nc]) + prob_darkAccCoinc + np.tile(prob_2darkCoinc.reshape(ng,1,nc),[1,nf,1])\n",
    "\n",
    "SNR = prob_signal/prob_noise\n",
    "signalRate = prob_signal * frameRate\n",
    "SNR.shape"
   ]
  },
  {
   "cell_type": "code",
   "execution_count": null,
   "metadata": {
    "collapsed": true
   },
   "outputs": [],
   "source": []
  }
 ],
 "metadata": {
  "anaconda-cloud": {},
  "kernelspec": {
   "display_name": "Python [default]",
   "language": "python",
   "name": "python2"
  },
  "language_info": {
   "codemirror_mode": {
    "name": "ipython",
    "version": 2
   },
   "file_extension": ".py",
   "mimetype": "text/x-python",
   "name": "python",
   "nbconvert_exporter": "python",
   "pygments_lexer": "ipython2",
   "version": "2.7.12"
  }
 },
 "nbformat": 4,
 "nbformat_minor": 1
}

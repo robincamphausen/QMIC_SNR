{
 "cells": [
  {
   "cell_type": "markdown",
   "metadata": {},
   "source": [
    "## Signal to Noise for Q-MIC with gated MPD SPC3 @ 800 nm\n",
    "\n",
    "Shows coincidence to accidentals ratio (CAR) and total signal to noise ratio (SNR) for\n",
    "- varying gate windows,\n",
    "- varying dark counts per pixel,\n",
    "- different detection efficiencies (total detection efficiency incl. transmission and quantum efficiency): with and without microlens array,\n",
    "- full sensor vs partial use of sensor.\n",
    "\n",
    "Also displays corresponding valid pair rate as a function of the above"
   ]
  },
  {
   "cell_type": "code",
   "execution_count": null,
   "metadata": {
    "collapsed": false
   },
   "outputs": [],
   "source": [
    "#initialise system values\n",
    "#------------------------\n",
    "\n",
    "import trace as tr\n",
    "import numpy as np\n",
    "\n",
    "# target SPDC pair generation rate is 10MHz\n",
    "pairRate = 1E7\n",
    "\n",
    "quantEff = 0.05 # SPC3 quantum efficiency at 800nm\n",
    "optTrans = 0.5 # 50% optical losses\n",
    "fillFactor = np.array([(30.0**2)/(150.0**2),0.7]) # without and with microlens array (70% fill factor claimed with MLA)\n",
    "eff = quantEff*optTrans*fillFactor\n",
    "\n",
    "darkC_ppix = 100 # for >80% of the SPAD pixels dark count is <100cps\n",
    "numpix = np.array([512,2048]) # focusing on 1/4 of array or using full array\n",
    "frameRate = 96E3\n",
    "frameT = 1/frameRate *1E9 # frame period in nanoseconds\n",
    "\n",
    "transPairs_psec = pairRate * eff**2 # number of SPDC photon pairs detected by SPAD array per second before gating\n",
    "darkCSingles_psec = darkC_ppix * numpix # number of dark count singles detected by SPAD array per second before gating\n",
    "transAccSingles_psec = pairRate *(eff-eff**2) # number of accidental singles detected by SPAD array per second before gating\n",
    "\n",
    "gateWin = np.linspace(1.0,5.0,17) # different gate windows in nanoseconds\n",
    "dutyCyc = gateWin/frameT # duty cycles for each gate window (time gate ON vs total length of frame)"
   ]
  },
  {
   "cell_type": "code",
   "execution_count": null,
   "metadata": {
    "collapsed": true
   },
   "outputs": [],
   "source": [
    "#Apply gating and calculate detection probabilities per frame\n",
    "#------------------------------------------------------------\n",
    "\n"
   ]
  },
  {
   "cell_type": "code",
   "execution_count": null,
   "metadata": {
    "collapsed": false
   },
   "outputs": [],
   "source": [
    "#run this in order to use matplotlib plotting:\n",
    "\n",
    "%matplotlib inline"
   ]
  },
  {
   "cell_type": "code",
   "execution_count": null,
   "metadata": {
    "collapsed": true
   },
   "outputs": [],
   "source": []
  }
 ],
 "metadata": {
  "anaconda-cloud": {},
  "kernelspec": {
   "display_name": "Python [default]",
   "language": "python",
   "name": "python2"
  },
  "language_info": {
   "codemirror_mode": {
    "name": "ipython",
    "version": 2
   },
   "file_extension": ".py",
   "mimetype": "text/x-python",
   "name": "python",
   "nbconvert_exporter": "python",
   "pygments_lexer": "ipython2",
   "version": "2.7.12"
  }
 },
 "nbformat": 4,
 "nbformat_minor": 1
}
